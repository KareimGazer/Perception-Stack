{
 "cells": [
  {
   "cell_type": "code",
   "execution_count": 1,
   "id": "bf1c0f1b-1e8c-4113-9569-e19fd028005b",
   "metadata": {},
   "outputs": [],
   "source": [
    "import numpy as np\n",
    "import cv2\n",
    "import glob\n",
    "import matplotlib.pyplot as plt\n",
    "%matplotlib inline"
   ]
  },
  {
   "cell_type": "code",
   "execution_count": null,
   "id": "72528eb9-a3e8-4121-ae13-d2619412d2ca",
   "metadata": {},
   "outputs": [],
   "source": [
    "import calibrate_camera"
   ]
  },
  {
   "cell_type": "code",
   "execution_count": 2,
   "id": "b9ae8f9e-af62-4d44-a76f-cf3a5bcff9e5",
   "metadata": {},
   "outputs": [],
   "source": [
    "x, y= (9, 6)\n",
    "# prepare object points, like (0,0,0), (1,0,0), (2,0,0) ....,(6,5,0)\n",
    "objp = np.zeros((6*9,3), np.float32)\n",
    "objp[:,:2] = np.mgrid[0:9, 0:6].T.reshape(-1,2)\n",
    "\n",
    "# Arrays to store object points and image points from all the images.\n",
    "objpoints = [] # 3d points in real world space\n",
    "imgpoints = [] # 2d points in image plane.\n",
    "\n",
    "# Make a list of calibration images\n",
    "images = glob.glob('camera_cal/*.jpg')"
   ]
  },
  {
   "cell_type": "code",
   "execution_count": 3,
   "id": "107fdcec-4687-4acf-aa32-73766f68f8a0",
   "metadata": {},
   "outputs": [],
   "source": [
    "for idx, fname in enumerate(images):\n",
    "    img = cv2.imread(fname)\n",
    "    gray = cv2.cvtColor(img, cv2.COLOR_BGR2GRAY)\n",
    "    # Find the chessboard corners\n",
    "    ret, corners = cv2.findChessboardCorners(gray, (9,6), None)\n",
    "    # If found, add object points, image points\n",
    "    if ret == True:\n",
    "        objpoints.append(objp)\n",
    "        imgpoints.append(corners)\n",
    "        cv2.drawChessboardCorners(img, (9,6), corners, ret)\n",
    "        write_name = 'output_images/drawn_corners/corners_found'+str(idx)+'.jpg'\n",
    "        cv2.imwrite(write_name, img)"
   ]
  },
  {
   "cell_type": "code",
   "execution_count": 4,
   "id": "ec299a63-0b87-4c99-be5d-065c1de442a7",
   "metadata": {},
   "outputs": [],
   "source": [
    "# Test undistortion on an image\n",
    "img = cv2.imread(images[0])\n",
    "img_size = (img.shape[1], img.shape[0])\n",
    "\n",
    "# Do camera calibration given object points and image points\n",
    "ret, mtx, dist, rvecs, tvecs = cv2.calibrateCamera(objpoints, imgpoints, img_size,None,None)\n",
    "\n",
    "for idx, fname in enumerate(images):\n",
    "    img = cv2.imread(fname)\n",
    "    dst = cv2.undistort(img, mtx, dist, None, mtx)\n",
    "    cv2.imwrite('output_images/calibrated_boards/'+str(idx)+'.jpg',dst)\n",
    "\n",
    "# Save the camera calibration result for later use (we won't worry about rvecs / tvecs)\n",
    "#dist_pickle = {}\n",
    "#dist_pickle[\"mtx\"] = mtx\n",
    "#dist_pickle[\"dist\"] = dist"
   ]
  },
  {
   "cell_type": "code",
   "execution_count": null,
   "id": "7e4484af-910d-4ea1-ac1c-017108e40b84",
   "metadata": {},
   "outputs": [],
   "source": []
  },
  {
   "cell_type": "code",
   "execution_count": null,
   "id": "61d38afd-d747-437b-ba61-23c752412f87",
   "metadata": {},
   "outputs": [],
   "source": [
    "(mtx, dist) = calibrate_camera.calibrate(9, 6, \"yjtry\")"
   ]
  },
  {
   "cell_type": "code",
   "execution_count": null,
   "id": "cd09b930-5195-455e-a1c7-403605cd490b",
   "metadata": {},
   "outputs": [],
   "source": [
    "import glob\n",
    "import cv2\n",
    "images = glob.glob('camera_cal/*.jpg')\n",
    "for idx, fname in enumerate(images):\n",
    "    image = cv2.imread(fname)\n",
    "    calibrate_camera.undistort(image, mtx, dist, 'output_images/calibrated_boards/', idx)"
   ]
  },
  {
   "cell_type": "code",
   "execution_count": null,
   "id": "f93d50ed-fba0-469f-ab24-3f38b9321496",
   "metadata": {},
   "outputs": [],
   "source": []
  }
 ],
 "metadata": {
  "kernelspec": {
   "display_name": "default:Python",
   "language": "python",
   "name": "conda-env-default-py"
  },
  "language_info": {
   "codemirror_mode": {
    "name": "ipython",
    "version": 3
   },
   "file_extension": ".py",
   "mimetype": "text/x-python",
   "name": "python",
   "nbconvert_exporter": "python",
   "pygments_lexer": "ipython3",
   "version": "3.9.7"
  }
 },
 "nbformat": 4,
 "nbformat_minor": 5
}
