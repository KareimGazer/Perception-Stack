{
 "cells": [
  {
   "cell_type": "markdown",
   "id": "e00562cf-70d1-436c-8480-98f5f68e688e",
   "metadata": {},
   "source": [
    "# Main Pipleline"
   ]
  },
  {
   "cell_type": "code",
   "execution_count": null,
   "id": "bf1c0f1b-1e8c-4113-9569-e19fd028005b",
   "metadata": {},
   "outputs": [],
   "source": [
    "import numpy as np\n",
    "import cv2\n",
    "import glob\n",
    "import matplotlib.pyplot as plt\n",
    "%matplotlib inline"
   ]
  },
  {
   "cell_type": "markdown",
   "id": "cca5d998-e751-4299-8f86-c1d4a7dc1b8f",
   "metadata": {},
   "source": [
    "Cameras needed to be calibrated first to remove distortion"
   ]
  },
  {
   "cell_type": "code",
   "execution_count": 1,
   "id": "61d38afd-d747-437b-ba61-23c752412f87",
   "metadata": {},
   "outputs": [],
   "source": [
    "import calibrate_camera # calibration module"
   ]
  },
  {
   "cell_type": "code",
   "execution_count": 2,
   "id": "cd09b930-5195-455e-a1c7-403605cd490b",
   "metadata": {},
   "outputs": [],
   "source": [
    "mtx, dist = calibrate_camera.calibrate(9, 6, 'camera_cal/*.jpg')"
   ]
  },
  {
   "cell_type": "markdown",
   "id": "e7bc74e2-9bd8-45b9-b0d0-d59456abf9ee",
   "metadata": {},
   "source": [
    "after we got the matrix and distortion coefficients we apply them to checkboards images to check the results"
   ]
  },
  {
   "cell_type": "code",
   "execution_count": 3,
   "id": "f93d50ed-fba0-469f-ab24-3f38b9321496",
   "metadata": {},
   "outputs": [],
   "source": [
    "import glob\n",
    "import cv2\n",
    "images_names = glob.glob('camera_cal/*.jpg')\n",
    "for index, image_name in enumerate(images_names):\n",
    "    image = cv2.imread(image_name)\n",
    "    image_size = (image.shape[1], image.shape[0])\n",
    "    calibrate_camera.undistort(image, mtx, dist, \n",
    "                               'output_images/calibrated_boards/test{}.jpg'.format(index))"
   ]
  },
  {
   "cell_type": "markdown",
   "id": "05a4c03a-f6bb-4b87-8589-700a0d3f64d6",
   "metadata": {},
   "source": [
    "we save the results in a pickle dictionary so we don't need to repeat the pipeline and gain performance improvements"
   ]
  },
  {
   "cell_type": "code",
   "execution_count": 4,
   "id": "b81a076e-55f0-44bc-8af0-a7c70b7e1a1b",
   "metadata": {},
   "outputs": [],
   "source": [
    "import pickle\n",
    "dist_pickle = {}\n",
    "dist_pickle[\"mtx\"] = mtx\n",
    "dist_pickle[\"dist\"] = dist\n",
    "pickle.dump( dist_pickle, open( \"camera_cal/wide_dist_pickle.p\", \"wb\" ) )"
   ]
  },
  {
   "cell_type": "code",
   "execution_count": 5,
   "id": "5b245ee1-737d-4f85-b531-867981e9d733",
   "metadata": {},
   "outputs": [],
   "source": [
    "images_names = glob.glob('test_images/*.jpg')\n",
    "for index, image_name in enumerate(images_names):\n",
    "    image = cv2.imread(image_name)\n",
    "    image_size = (image.shape[1], image.shape[0])\n",
    "    calibrate_camera.undistort(image, mtx, dist, \n",
    "                               'output_images/calibrated_roads/road{}.jpg'.format(index))"
   ]
  },
  {
   "cell_type": "code",
   "execution_count": 7,
   "id": "8ce49b48-d2af-4b00-8718-615974312356",
   "metadata": {},
   "outputs": [],
   "source": [
    "import sobel"
   ]
  },
  {
   "cell_type": "markdown",
   "id": "28a7a0ea-0d63-496e-91b7-b8513604062e",
   "metadata": {},
   "source": [
    "sobel module reads images in RGB using matplot lib"
   ]
  },
  {
   "cell_type": "code",
   "execution_count": 12,
   "id": "15213e86-6c25-407c-861b-f7b32bc0fbc5",
   "metadata": {},
   "outputs": [],
   "source": [
    "import numpy as np\n",
    "import matplotlib.pyplot as plt\n",
    "import matplotlib.image as mpimg\n",
    "images_names = glob.glob('output_images/calibrated_roads/*.jpg')\n",
    "ksize = 3\n",
    "for index, image_name in enumerate(images_names):\n",
    "    image = mpimg.imread(image_name)\n",
    "    gradx = sobel.abs_sobel_thresh(image, orient='x', sobel_kernel=ksize, thresh=(20, 100))\n",
    "    grady = sobel.abs_sobel_thresh(image, orient='y', sobel_kernel=ksize, thresh=(20, 100))\n",
    "    mag_binary = sobel.mag_thresh(image, sobel_kernel=ksize, mag_thresh=(30, 100))\n",
    "    dir_binary = sobel.dir_threshold(image, sobel_kernel=ksize, thresh=(0.7, 1.3))\n",
    "    combined = np.zeros_like(dir_binary)\n",
    "    combined[((gradx == 1) & (grady == 1)) | ((mag_binary == 1) & (dir_binary == 1))] = 1\n",
    "    plt.imsave('output_images/color_threshold/{}.jpg'.format(index), combined)"
   ]
  },
  {
   "cell_type": "code",
   "execution_count": null,
   "id": "87b58732-3580-4bcf-ba85-9d9c8119ae51",
   "metadata": {},
   "outputs": [],
   "source": []
  }
 ],
 "metadata": {
  "kernelspec": {
   "display_name": "default:Python",
   "language": "python",
   "name": "conda-env-default-py"
  },
  "language_info": {
   "codemirror_mode": {
    "name": "ipython",
    "version": 3
   },
   "file_extension": ".py",
   "mimetype": "text/x-python",
   "name": "python",
   "nbconvert_exporter": "python",
   "pygments_lexer": "ipython3",
   "version": "3.9.7"
  }
 },
 "nbformat": 4,
 "nbformat_minor": 5
}
