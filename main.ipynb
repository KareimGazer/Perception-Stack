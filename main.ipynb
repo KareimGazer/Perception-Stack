{
 "cells": [
  {
   "cell_type": "code",
   "execution_count": null,
   "id": "bf1c0f1b-1e8c-4113-9569-e19fd028005b",
   "metadata": {},
   "outputs": [],
   "source": [
    "import numpy as np\n",
    "import cv2\n",
    "import glob\n",
    "import matplotlib.pyplot as plt\n",
    "%matplotlib inline"
   ]
  },
  {
   "cell_type": "code",
   "execution_count": 1,
   "id": "61d38afd-d747-437b-ba61-23c752412f87",
   "metadata": {},
   "outputs": [],
   "source": [
    "import calibrate_camera"
   ]
  },
  {
   "cell_type": "code",
   "execution_count": 2,
   "id": "cd09b930-5195-455e-a1c7-403605cd490b",
   "metadata": {},
   "outputs": [],
   "source": [
    "mtx, dist = calibrate_camera.calibrate(9, 6, 'camera_cal/*.jpg')"
   ]
  },
  {
   "cell_type": "code",
   "execution_count": 3,
   "id": "f93d50ed-fba0-469f-ab24-3f38b9321496",
   "metadata": {},
   "outputs": [],
   "source": [
    "import glob\n",
    "import cv2\n",
    "images_names = glob.glob('camera_cal/*.jpg')\n",
    "for index, image_name in enumerate(images_names):\n",
    "    image = cv2.imread(image_name)\n",
    "    image_size = (image.shape[1], image.shape[0])\n",
    "    calibrate_camera.undistort(image, mtx, dist, 'output_images/calibrated_boards/test{}.jpg'.format(index))"
   ]
  },
  {
   "cell_type": "code",
   "execution_count": 5,
   "id": "b81a076e-55f0-44bc-8af0-a7c70b7e1a1b",
   "metadata": {},
   "outputs": [],
   "source": [
    "import pickle\n",
    "dist_pickle = {}\n",
    "dist_pickle[\"mtx\"] = mtx\n",
    "dist_pickle[\"dist\"] = dist\n",
    "pickle.dump( dist_pickle, open( \"camera_cal/wide_dist_pickle.p\", \"wb\" ) )"
   ]
  },
  {
   "cell_type": "code",
   "execution_count": 6,
   "id": "5b245ee1-737d-4f85-b531-867981e9d733",
   "metadata": {},
   "outputs": [],
   "source": [
    "images_names = glob.glob('test_images/*.jpg')\n",
    "for index, image_name in enumerate(images_names):\n",
    "    image = cv2.imread(image_name)\n",
    "    image_size = (image.shape[1], image.shape[0])\n",
    "    calibrate_camera.undistort(image, mtx, dist, 'output_images/calibrated_roads/road{}.jpg'.format(index))"
   ]
  },
  {
   "cell_type": "code",
   "execution_count": null,
   "id": "8ce49b48-d2af-4b00-8718-615974312356",
   "metadata": {},
   "outputs": [],
   "source": []
  }
 ],
 "metadata": {
  "kernelspec": {
   "display_name": "default:Python",
   "language": "python",
   "name": "conda-env-default-py"
  },
  "language_info": {
   "codemirror_mode": {
    "name": "ipython",
    "version": 3
   },
   "file_extension": ".py",
   "mimetype": "text/x-python",
   "name": "python",
   "nbconvert_exporter": "python",
   "pygments_lexer": "ipython3",
   "version": "3.9.7"
  }
 },
 "nbformat": 4,
 "nbformat_minor": 5
}
